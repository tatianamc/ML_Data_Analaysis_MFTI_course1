{
 "metadata": {
  "name": "Probability distributions"
 }, 
 "nbformat": 2, 
 "worksheets": [
  {
   "cells": [
    {
     "cell_type": "markdown", 
     "source": [
      "1) \u0421\u043e\u0431\u0435\u0440\u0435\u043c \u0434\u0430\u043d\u043d\u044b\u0435 \u0438 \u0441\u043e\u0445\u0440\u0430\u043d\u0438\u043c \u0438\u0445 \u0432 \u043c\u0430\u0441\u0441\u0438\u0432 latencies"
     ]
    }, 
    {
     "cell_type": "code", 
     "collapsed": false, 
     "input": [
      "import httplib", 
      "import time", 
      "", 
      "", 
      "latencies = []", 
      "number_of_samples = 100", 
      "for i in range(number_of_samples):", 
      "    conn = httplib.HTTPConnection(\"livejournal.com\")", 
      "    conn.request(\"GET\", \"/\")", 
      "    start_time = time.time()", 
      "    r1 = conn.getresponse()", 
      "    latency = round((time.time() - start_time) * 1000)", 
      "    latencies.append(latency)", 
      "    print(\"{1}\\\\{2}. \u0417\u0430\u0434\u0435\u0440\u0436\u043a\u0430: {0}\u043c\u0441.\".format(latency, i+1, number_of_samples))"
     ], 
     "language": "python", 
     "outputs": [
      {
       "output_type": "stream", 
       "stream": "stdout", 
       "text": [
        "1\\100. \u0417\u0430\u0434\u0435\u0440\u0436\u043a\u0430: 189.0\u043c\u0441.", 
        "2\\100. \u0417\u0430\u0434\u0435\u0440\u0436\u043a\u0430: 189.0\u043c\u0441."
       ]
      }, 
      {
       "output_type": "stream", 
       "stream": "stdout", 
       "text": [
        "", 
        "3\\100. \u0417\u0430\u0434\u0435\u0440\u0436\u043a\u0430: 186.0\u043c\u0441."
       ]
      }, 
      {
       "output_type": "stream", 
       "stream": "stdout", 
       "text": [
        "", 
        "4\\100. \u0417\u0430\u0434\u0435\u0440\u0436\u043a\u0430: 189.0\u043c\u0441."
       ]
      }, 
      {
       "output_type": "stream", 
       "stream": "stdout", 
       "text": [
        "", 
        "5\\100. \u0417\u0430\u0434\u0435\u0440\u0436\u043a\u0430: 189.0\u043c\u0441."
       ]
      }, 
      {
       "output_type": "stream", 
       "stream": "stdout", 
       "text": [
        "", 
        "6\\100. \u0417\u0430\u0434\u0435\u0440\u0436\u043a\u0430: 191.0\u043c\u0441."
       ]
      }, 
      {
       "output_type": "stream", 
       "stream": "stdout", 
       "text": [
        "", 
        "7\\100. \u0417\u0430\u0434\u0435\u0440\u0436\u043a\u0430: 190.0\u043c\u0441."
       ]
      }, 
      {
       "output_type": "stream", 
       "stream": "stdout", 
       "text": [
        "", 
        "8\\100. \u0417\u0430\u0434\u0435\u0440\u0436\u043a\u0430: 186.0\u043c\u0441."
       ]
      }, 
      {
       "output_type": "stream", 
       "stream": "stdout", 
       "text": [
        "", 
        "9\\100. \u0417\u0430\u0434\u0435\u0440\u0436\u043a\u0430: 188.0\u043c\u0441."
       ]
      }, 
      {
       "output_type": "stream", 
       "stream": "stdout", 
       "text": [
        "", 
        "10\\100. \u0417\u0430\u0434\u0435\u0440\u0436\u043a\u0430: 186.0\u043c\u0441."
       ]
      }, 
      {
       "output_type": "stream", 
       "stream": "stdout", 
       "text": [
        "", 
        "11\\100. \u0417\u0430\u0434\u0435\u0440\u0436\u043a\u0430: 187.0\u043c\u0441."
       ]
      }, 
      {
       "output_type": "stream", 
       "stream": "stdout", 
       "text": [
        "", 
        "12\\100. \u0417\u0430\u0434\u0435\u0440\u0436\u043a\u0430: 188.0\u043c\u0441."
       ]
      }, 
      {
       "output_type": "stream", 
       "stream": "stdout", 
       "text": [
        "", 
        "13\\100. \u0417\u0430\u0434\u0435\u0440\u0436\u043a\u0430: 186.0\u043c\u0441."
       ]
      }, 
      {
       "output_type": "stream", 
       "stream": "stdout", 
       "text": [
        "", 
        "14\\100. \u0417\u0430\u0434\u0435\u0440\u0436\u043a\u0430: 189.0\u043c\u0441."
       ]
      }, 
      {
       "output_type": "stream", 
       "stream": "stdout", 
       "text": [
        "", 
        "15\\100. \u0417\u0430\u0434\u0435\u0440\u0436\u043a\u0430: 208.0\u043c\u0441."
       ]
      }, 
      {
       "output_type": "stream", 
       "stream": "stdout", 
       "text": [
        "", 
        "16\\100. \u0417\u0430\u0434\u0435\u0440\u0436\u043a\u0430: 186.0\u043c\u0441."
       ]
      }, 
      {
       "output_type": "stream", 
       "stream": "stdout", 
       "text": [
        "", 
        "17\\100. \u0417\u0430\u0434\u0435\u0440\u0436\u043a\u0430: 194.0\u043c\u0441."
       ]
      }, 
      {
       "output_type": "stream", 
       "stream": "stdout", 
       "text": [
        "", 
        "18\\100. \u0417\u0430\u0434\u0435\u0440\u0436\u043a\u0430: 187.0\u043c\u0441."
       ]
      }, 
      {
       "output_type": "stream", 
       "stream": "stdout", 
       "text": [
        "", 
        "19\\100. \u0417\u0430\u0434\u0435\u0440\u0436\u043a\u0430: 186.0\u043c\u0441."
       ]
      }, 
      {
       "output_type": "stream", 
       "stream": "stdout", 
       "text": [
        "", 
        "20\\100. \u0417\u0430\u0434\u0435\u0440\u0436\u043a\u0430: 193.0\u043c\u0441."
       ]
      }, 
      {
       "output_type": "stream", 
       "stream": "stdout", 
       "text": [
        "", 
        "21\\100. \u0417\u0430\u0434\u0435\u0440\u0436\u043a\u0430: 190.0\u043c\u0441."
       ]
      }, 
      {
       "output_type": "stream", 
       "stream": "stdout", 
       "text": [
        "", 
        "22\\100. \u0417\u0430\u0434\u0435\u0440\u0436\u043a\u0430: 194.0\u043c\u0441."
       ]
      }, 
      {
       "output_type": "stream", 
       "stream": "stdout", 
       "text": [
        "", 
        "23\\100. \u0417\u0430\u0434\u0435\u0440\u0436\u043a\u0430: 186.0\u043c\u0441."
       ]
      }, 
      {
       "output_type": "stream", 
       "stream": "stdout", 
       "text": [
        "", 
        "24\\100. \u0417\u0430\u0434\u0435\u0440\u0436\u043a\u0430: 187.0\u043c\u0441."
       ]
      }, 
      {
       "output_type": "stream", 
       "stream": "stdout", 
       "text": [
        "", 
        "25\\100. \u0417\u0430\u0434\u0435\u0440\u0436\u043a\u0430: 201.0\u043c\u0441."
       ]
      }, 
      {
       "output_type": "stream", 
       "stream": "stdout", 
       "text": [
        "", 
        "26\\100. \u0417\u0430\u0434\u0435\u0440\u0436\u043a\u0430: 188.0\u043c\u0441."
       ]
      }, 
      {
       "output_type": "stream", 
       "stream": "stdout", 
       "text": [
        "", 
        "27\\100. \u0417\u0430\u0434\u0435\u0440\u0436\u043a\u0430: 188.0\u043c\u0441."
       ]
      }, 
      {
       "output_type": "stream", 
       "stream": "stdout", 
       "text": [
        "", 
        "28\\100. \u0417\u0430\u0434\u0435\u0440\u0436\u043a\u0430: 187.0\u043c\u0441."
       ]
      }, 
      {
       "output_type": "stream", 
       "stream": "stdout", 
       "text": [
        "", 
        "29\\100. \u0417\u0430\u0434\u0435\u0440\u0436\u043a\u0430: 186.0\u043c\u0441."
       ]
      }, 
      {
       "output_type": "stream", 
       "stream": "stdout", 
       "text": [
        "", 
        "30\\100. \u0417\u0430\u0434\u0435\u0440\u0436\u043a\u0430: 188.0\u043c\u0441."
       ]
      }, 
      {
       "output_type": "stream", 
       "stream": "stdout", 
       "text": [
        "", 
        "31\\100. \u0417\u0430\u0434\u0435\u0440\u0436\u043a\u0430: 189.0\u043c\u0441."
       ]
      }, 
      {
       "output_type": "stream", 
       "stream": "stdout", 
       "text": [
        "", 
        "32\\100. \u0417\u0430\u0434\u0435\u0440\u0436\u043a\u0430: 188.0\u043c\u0441."
       ]
      }, 
      {
       "output_type": "stream", 
       "stream": "stdout", 
       "text": [
        "", 
        "33\\100. \u0417\u0430\u0434\u0435\u0440\u0436\u043a\u0430: 185.0\u043c\u0441."
       ]
      }, 
      {
       "output_type": "stream", 
       "stream": "stdout", 
       "text": [
        "", 
        "34\\100. \u0417\u0430\u0434\u0435\u0440\u0436\u043a\u0430: 188.0\u043c\u0441."
       ]
      }, 
      {
       "output_type": "stream", 
       "stream": "stdout", 
       "text": [
        "", 
        "35\\100. \u0417\u0430\u0434\u0435\u0440\u0436\u043a\u0430: 191.0\u043c\u0441."
       ]
      }, 
      {
       "output_type": "stream", 
       "stream": "stdout", 
       "text": [
        "", 
        "36\\100. \u0417\u0430\u0434\u0435\u0440\u0436\u043a\u0430: 193.0\u043c\u0441."
       ]
      }, 
      {
       "output_type": "stream", 
       "stream": "stdout", 
       "text": [
        "", 
        "37\\100. \u0417\u0430\u0434\u0435\u0440\u0436\u043a\u0430: 194.0\u043c\u0441."
       ]
      }, 
      {
       "output_type": "stream", 
       "stream": "stdout", 
       "text": [
        "", 
        "38\\100. \u0417\u0430\u0434\u0435\u0440\u0436\u043a\u0430: 191.0\u043c\u0441."
       ]
      }, 
      {
       "output_type": "stream", 
       "stream": "stdout", 
       "text": [
        "", 
        "39\\100. \u0417\u0430\u0434\u0435\u0440\u0436\u043a\u0430: 188.0\u043c\u0441."
       ]
      }, 
      {
       "output_type": "stream", 
       "stream": "stdout", 
       "text": [
        "", 
        "40\\100. \u0417\u0430\u0434\u0435\u0440\u0436\u043a\u0430: 192.0\u043c\u0441."
       ]
      }, 
      {
       "output_type": "stream", 
       "stream": "stdout", 
       "text": [
        "", 
        "41\\100. \u0417\u0430\u0434\u0435\u0440\u0436\u043a\u0430: 187.0\u043c\u0441."
       ]
      }, 
      {
       "output_type": "stream", 
       "stream": "stdout", 
       "text": [
        "", 
        "42\\100. \u0417\u0430\u0434\u0435\u0440\u0436\u043a\u0430: 190.0\u043c\u0441."
       ]
      }, 
      {
       "output_type": "stream", 
       "stream": "stdout", 
       "text": [
        "", 
        "43\\100. \u0417\u0430\u0434\u0435\u0440\u0436\u043a\u0430: 189.0\u043c\u0441."
       ]
      }, 
      {
       "output_type": "stream", 
       "stream": "stdout", 
       "text": [
        "", 
        "44\\100. \u0417\u0430\u0434\u0435\u0440\u0436\u043a\u0430: 188.0\u043c\u0441."
       ]
      }, 
      {
       "output_type": "stream", 
       "stream": "stdout", 
       "text": [
        "", 
        "45\\100. \u0417\u0430\u0434\u0435\u0440\u0436\u043a\u0430: 193.0\u043c\u0441."
       ]
      }, 
      {
       "output_type": "stream", 
       "stream": "stdout", 
       "text": [
        "", 
        "46\\100. \u0417\u0430\u0434\u0435\u0440\u0436\u043a\u0430: 190.0\u043c\u0441."
       ]
      }, 
      {
       "output_type": "stream", 
       "stream": "stdout", 
       "text": [
        "", 
        "47\\100. \u0417\u0430\u0434\u0435\u0440\u0436\u043a\u0430: 188.0\u043c\u0441."
       ]
      }, 
      {
       "output_type": "stream", 
       "stream": "stdout", 
       "text": [
        "", 
        "48\\100. \u0417\u0430\u0434\u0435\u0440\u0436\u043a\u0430: 193.0\u043c\u0441."
       ]
      }, 
      {
       "output_type": "stream", 
       "stream": "stdout", 
       "text": [
        "", 
        "49\\100. \u0417\u0430\u0434\u0435\u0440\u0436\u043a\u0430: 187.0\u043c\u0441."
       ]
      }, 
      {
       "output_type": "stream", 
       "stream": "stdout", 
       "text": [
        "", 
        "50\\100. \u0417\u0430\u0434\u0435\u0440\u0436\u043a\u0430: 185.0\u043c\u0441."
       ]
      }, 
      {
       "output_type": "stream", 
       "stream": "stdout", 
       "text": [
        "", 
        "51\\100. \u0417\u0430\u0434\u0435\u0440\u0436\u043a\u0430: 186.0\u043c\u0441."
       ]
      }, 
      {
       "output_type": "stream", 
       "stream": "stdout", 
       "text": [
        "", 
        "52\\100. \u0417\u0430\u0434\u0435\u0440\u0436\u043a\u0430: 189.0\u043c\u0441."
       ]
      }, 
      {
       "output_type": "stream", 
       "stream": "stdout", 
       "text": [
        "", 
        "53\\100. \u0417\u0430\u0434\u0435\u0440\u0436\u043a\u0430: 190.0\u043c\u0441."
       ]
      }, 
      {
       "output_type": "stream", 
       "stream": "stdout", 
       "text": [
        "", 
        "54\\100. \u0417\u0430\u0434\u0435\u0440\u0436\u043a\u0430: 190.0\u043c\u0441."
       ]
      }, 
      {
       "output_type": "stream", 
       "stream": "stdout", 
       "text": [
        "", 
        "55\\100. \u0417\u0430\u0434\u0435\u0440\u0436\u043a\u0430: 189.0\u043c\u0441."
       ]
      }, 
      {
       "output_type": "stream", 
       "stream": "stdout", 
       "text": [
        "", 
        "56\\100. \u0417\u0430\u0434\u0435\u0440\u0436\u043a\u0430: 186.0\u043c\u0441."
       ]
      }, 
      {
       "output_type": "stream", 
       "stream": "stdout", 
       "text": [
        "", 
        "57\\100. \u0417\u0430\u0434\u0435\u0440\u0436\u043a\u0430: 186.0\u043c\u0441."
       ]
      }, 
      {
       "output_type": "stream", 
       "stream": "stdout", 
       "text": [
        "", 
        "58\\100. \u0417\u0430\u0434\u0435\u0440\u0436\u043a\u0430: 186.0\u043c\u0441."
       ]
      }, 
      {
       "output_type": "stream", 
       "stream": "stdout", 
       "text": [
        "", 
        "59\\100. \u0417\u0430\u0434\u0435\u0440\u0436\u043a\u0430: 187.0\u043c\u0441."
       ]
      }, 
      {
       "output_type": "stream", 
       "stream": "stdout", 
       "text": [
        "", 
        "60\\100. \u0417\u0430\u0434\u0435\u0440\u0436\u043a\u0430: 191.0\u043c\u0441."
       ]
      }, 
      {
       "output_type": "stream", 
       "stream": "stdout", 
       "text": [
        "", 
        "61\\100. \u0417\u0430\u0434\u0435\u0440\u0436\u043a\u0430: 186.0\u043c\u0441."
       ]
      }, 
      {
       "output_type": "stream", 
       "stream": "stdout", 
       "text": [
        "", 
        "62\\100. \u0417\u0430\u0434\u0435\u0440\u0436\u043a\u0430: 189.0\u043c\u0441."
       ]
      }, 
      {
       "output_type": "stream", 
       "stream": "stdout", 
       "text": [
        "", 
        "63\\100. \u0417\u0430\u0434\u0435\u0440\u0436\u043a\u0430: 188.0\u043c\u0441."
       ]
      }, 
      {
       "output_type": "stream", 
       "stream": "stdout", 
       "text": [
        "", 
        "64\\100. \u0417\u0430\u0434\u0435\u0440\u0436\u043a\u0430: 188.0\u043c\u0441."
       ]
      }, 
      {
       "output_type": "stream", 
       "stream": "stdout", 
       "text": [
        "", 
        "65\\100. \u0417\u0430\u0434\u0435\u0440\u0436\u043a\u0430: 194.0\u043c\u0441."
       ]
      }, 
      {
       "output_type": "stream", 
       "stream": "stdout", 
       "text": [
        "", 
        "66\\100. \u0417\u0430\u0434\u0435\u0440\u0436\u043a\u0430: 186.0\u043c\u0441."
       ]
      }, 
      {
       "output_type": "stream", 
       "stream": "stdout", 
       "text": [
        "", 
        "67\\100. \u0417\u0430\u0434\u0435\u0440\u0436\u043a\u0430: 195.0\u043c\u0441."
       ]
      }, 
      {
       "output_type": "stream", 
       "stream": "stdout", 
       "text": [
        "", 
        "68\\100. \u0417\u0430\u0434\u0435\u0440\u0436\u043a\u0430: 187.0\u043c\u0441."
       ]
      }, 
      {
       "output_type": "stream", 
       "stream": "stdout", 
       "text": [
        "", 
        "69\\100. \u0417\u0430\u0434\u0435\u0440\u0436\u043a\u0430: 185.0\u043c\u0441."
       ]
      }, 
      {
       "output_type": "stream", 
       "stream": "stdout", 
       "text": [
        "", 
        "70\\100. \u0417\u0430\u0434\u0435\u0440\u0436\u043a\u0430: 190.0\u043c\u0441."
       ]
      }, 
      {
       "output_type": "stream", 
       "stream": "stdout", 
       "text": [
        "", 
        "71\\100. \u0417\u0430\u0434\u0435\u0440\u0436\u043a\u0430: 187.0\u043c\u0441."
       ]
      }, 
      {
       "output_type": "stream", 
       "stream": "stdout", 
       "text": [
        "", 
        "72\\100. \u0417\u0430\u0434\u0435\u0440\u0436\u043a\u0430: 187.0\u043c\u0441."
       ]
      }, 
      {
       "output_type": "stream", 
       "stream": "stdout", 
       "text": [
        "", 
        "73\\100. \u0417\u0430\u0434\u0435\u0440\u0436\u043a\u0430: 188.0\u043c\u0441."
       ]
      }, 
      {
       "output_type": "stream", 
       "stream": "stdout", 
       "text": [
        "", 
        "74\\100. \u0417\u0430\u0434\u0435\u0440\u0436\u043a\u0430: 187.0\u043c\u0441."
       ]
      }, 
      {
       "output_type": "stream", 
       "stream": "stdout", 
       "text": [
        "", 
        "75\\100. \u0417\u0430\u0434\u0435\u0440\u0436\u043a\u0430: 188.0\u043c\u0441."
       ]
      }, 
      {
       "output_type": "stream", 
       "stream": "stdout", 
       "text": [
        "", 
        "76\\100. \u0417\u0430\u0434\u0435\u0440\u0436\u043a\u0430: 190.0\u043c\u0441."
       ]
      }, 
      {
       "output_type": "stream", 
       "stream": "stdout", 
       "text": [
        "", 
        "77\\100. \u0417\u0430\u0434\u0435\u0440\u0436\u043a\u0430: 188.0\u043c\u0441."
       ]
      }, 
      {
       "output_type": "stream", 
       "stream": "stdout", 
       "text": [
        "", 
        "78\\100. \u0417\u0430\u0434\u0435\u0440\u0436\u043a\u0430: 189.0\u043c\u0441."
       ]
      }, 
      {
       "output_type": "stream", 
       "stream": "stdout", 
       "text": [
        "", 
        "79\\100. \u0417\u0430\u0434\u0435\u0440\u0436\u043a\u0430: 189.0\u043c\u0441."
       ]
      }, 
      {
       "output_type": "stream", 
       "stream": "stdout", 
       "text": [
        "", 
        "80\\100. \u0417\u0430\u0434\u0435\u0440\u0436\u043a\u0430: 193.0\u043c\u0441."
       ]
      }, 
      {
       "output_type": "stream", 
       "stream": "stdout", 
       "text": [
        "", 
        "81\\100. \u0417\u0430\u0434\u0435\u0440\u0436\u043a\u0430: 187.0\u043c\u0441."
       ]
      }, 
      {
       "output_type": "stream", 
       "stream": "stdout", 
       "text": [
        "", 
        "82\\100. \u0417\u0430\u0434\u0435\u0440\u0436\u043a\u0430: 193.0\u043c\u0441."
       ]
      }, 
      {
       "output_type": "stream", 
       "stream": "stdout", 
       "text": [
        "", 
        "83\\100. \u0417\u0430\u0434\u0435\u0440\u0436\u043a\u0430: 186.0\u043c\u0441."
       ]
      }, 
      {
       "output_type": "stream", 
       "stream": "stdout", 
       "text": [
        "", 
        "84\\100. \u0417\u0430\u0434\u0435\u0440\u0436\u043a\u0430: 189.0\u043c\u0441."
       ]
      }, 
      {
       "output_type": "stream", 
       "stream": "stdout", 
       "text": [
        "", 
        "85\\100. \u0417\u0430\u0434\u0435\u0440\u0436\u043a\u0430: 188.0\u043c\u0441."
       ]
      }, 
      {
       "output_type": "stream", 
       "stream": "stdout", 
       "text": [
        "", 
        "86\\100. \u0417\u0430\u0434\u0435\u0440\u0436\u043a\u0430: 190.0\u043c\u0441."
       ]
      }, 
      {
       "output_type": "stream", 
       "stream": "stdout", 
       "text": [
        "", 
        "87\\100. \u0417\u0430\u0434\u0435\u0440\u0436\u043a\u0430: 186.0\u043c\u0441."
       ]
      }, 
      {
       "output_type": "stream", 
       "stream": "stdout", 
       "text": [
        "", 
        "88\\100. \u0417\u0430\u0434\u0435\u0440\u0436\u043a\u0430: 190.0\u043c\u0441."
       ]
      }, 
      {
       "output_type": "stream", 
       "stream": "stdout", 
       "text": [
        "", 
        "89\\100. \u0417\u0430\u0434\u0435\u0440\u0436\u043a\u0430: 188.0\u043c\u0441."
       ]
      }, 
      {
       "output_type": "stream", 
       "stream": "stdout", 
       "text": [
        "", 
        "90\\100. \u0417\u0430\u0434\u0435\u0440\u0436\u043a\u0430: 186.0\u043c\u0441."
       ]
      }, 
      {
       "output_type": "stream", 
       "stream": "stdout", 
       "text": [
        "", 
        "91\\100. \u0417\u0430\u0434\u0435\u0440\u0436\u043a\u0430: 185.0\u043c\u0441."
       ]
      }, 
      {
       "output_type": "stream", 
       "stream": "stdout", 
       "text": [
        "", 
        "92\\100. \u0417\u0430\u0434\u0435\u0440\u0436\u043a\u0430: 189.0\u043c\u0441."
       ]
      }, 
      {
       "output_type": "stream", 
       "stream": "stdout", 
       "text": [
        "", 
        "93\\100. \u0417\u0430\u0434\u0435\u0440\u0436\u043a\u0430: 189.0\u043c\u0441."
       ]
      }, 
      {
       "output_type": "stream", 
       "stream": "stdout", 
       "text": [
        "", 
        "94\\100. \u0417\u0430\u0434\u0435\u0440\u0436\u043a\u0430: 189.0\u043c\u0441."
       ]
      }, 
      {
       "output_type": "stream", 
       "stream": "stdout", 
       "text": [
        "", 
        "95\\100. \u0417\u0430\u0434\u0435\u0440\u0436\u043a\u0430: 194.0\u043c\u0441."
       ]
      }, 
      {
       "output_type": "stream", 
       "stream": "stdout", 
       "text": [
        "", 
        "96\\100. \u0417\u0430\u0434\u0435\u0440\u0436\u043a\u0430: 187.0\u043c\u0441."
       ]
      }, 
      {
       "output_type": "stream", 
       "stream": "stdout", 
       "text": [
        "", 
        "97\\100. \u0417\u0430\u0434\u0435\u0440\u0436\u043a\u0430: 192.0\u043c\u0441."
       ]
      }, 
      {
       "output_type": "stream", 
       "stream": "stdout", 
       "text": [
        "", 
        "98\\100. \u0417\u0430\u0434\u0435\u0440\u0436\u043a\u0430: 187.0\u043c\u0441."
       ]
      }, 
      {
       "output_type": "stream", 
       "stream": "stdout", 
       "text": [
        "", 
        "99\\100. \u0417\u0430\u0434\u0435\u0440\u0436\u043a\u0430: 190.0\u043c\u0441."
       ]
      }, 
      {
       "output_type": "stream", 
       "stream": "stdout", 
       "text": [
        "", 
        "100\\100. \u0417\u0430\u0434\u0435\u0440\u0436\u043a\u0430: 191.0\u043c\u0441."
       ]
      }, 
      {
       "output_type": "stream", 
       "stream": "stdout", 
       "text": [
        ""
       ]
      }
     ], 
     "prompt_number": 20
    }, 
    {
     "cell_type": "markdown", 
     "source": [
      "2) \u041e\u043f\u0440\u0435\u0434\u0435\u043b\u0438\u043c \u0447\u0438\u0441\u043b\u043e \u0443\u0447\u0430\u0441\u0442\u043a\u043e\u0432 \u0440\u0430\u0437\u0431\u0438\u044f\u043d\u0438\u044f \u0438 \u043f\u043e\u0441\u0442\u0440\u043e\u0438\u043c \u0433\u0438\u0441\u0442\u043e\u0433\u0440\u0430\u043c\u043c\u0443 \u0432\u0440\u0435\u043c\u0435\u043d \u043e\u0442\u043a\u0440\u044b\u0442\u0438\u044f \u0432\u0435\u0431-\u0441\u0442\u0440\u0430\u043d\u0438\u0446\u044b."
     ]
    }, 
    {
     "cell_type": "code", 
     "collapsed": false, 
     "input": [
      "import math", 
      "bins_number = round(10+math.sqrt(len(latencies)))", 
      "print(u\"\u0427\u0438\u0441\u043b\u043e \u0443\u0447\u0430\u0441\u0442\u043a\u043e\u0432 \u0440\u0430\u0437\u0431\u0438\u0435\u043d\u0438\u044f \u0432 \u0433\u0438\u0441\u0442\u043e\u0433\u0440\u0430\u043c\u043c\u0435:{0}\".format(bins_number))", 
      "", 
      "hist(latencies, bins_number))", 
      "title(\"Histogram of latencies of web-page load\")", 
      "xlabel(\"Latency\")", 
      "ylabel(\"Frequency\")", 
      "show()"
     ], 
     "language": "python", 
     "outputs": [
      {
       "output_type": "stream", 
       "stream": "stdout", 
       "text": [
        "\u0427\u0438\u0441\u043b\u043e \u0443\u0447\u0430\u0441\u0442\u043a\u043e\u0432 \u0440\u0430\u0437\u0431\u0438\u0435\u043d\u0438\u044f \u0432 \u0433\u0438\u0441\u0442\u043e\u0433\u0440\u0430\u043c\u043c\u0435:20.0", 
        "(array([21, 14, 17, 16, 11,  5,  8,  5,  1,  0,  0,  0,  0,  1,  0,  0,  0,", 
        "        0,  0,  1]), array([ 185.  ,  186.15,  187.3 ,  188.45,  189.6 ,  190.75,  191.9 ,", 
        "        193.05,  194.2 ,  195.35,  196.5 ,  197.65,  198.8 ,  199.95,", 
        "        201.1 ,  202.25,  203.4 ,  204.55,  205.7 ,  206.85,  208.  ]), <a list of 20 Patch objects>)"
       ]
      }, 
      {
       "output_type": "stream", 
       "stream": "stdout", 
       "text": [
        ""
       ]
      }, 
      {
       "output_type": "display_data", 
       "png": "[encoded data removed]"
      }
     ], 
     "prompt_number": 91
    }, 
    {
     "cell_type": "markdown", 
     "source": [
      "3) \u041f\u043e\u0441\u043c\u043e\u0442\u0440\u0438\u043c, \u043d\u0430\u0441\u043a\u043e\u043b\u044c\u043a\u043e \u0445\u043e\u0440\u043e\u0448\u043e \u043f\u043e\u0434\u0445\u043e\u0434\u0438\u0442 \u0440\u0430\u0441\u043f\u0440\u0435\u0434\u0435\u043b\u0435\u043d\u0438\u0435 \u042d\u0440\u043b\u0430\u043d\u0433\u0430 \u0434\u043b\u044f \u043d\u0430\u0448\u0438\u0445 \u0434\u0430\u043d\u043d\u044b\u0445."
     ]
    }, 
    {
     "cell_type": "code", 
     "collapsed": false, 
     "input": [
      "import scipy.stats as ss", 
      "import scipy as sp", 
      "import numpy as np", 
      "", 
      "hist(latencies, bins_number, normed=1)  # \u041f\u043e\u0441\u0442\u0440\u043e\u0438\u043c \u043d\u043e\u0440\u043c\u0430\u043b\u0438\u0437\u043e\u0432\u0430\u043d\u043d\u0443\u044e \u0433\u0438\u0441\u0442\u043e\u0433\u0440\u0430\u043c\u043c\u0443", 
      "", 
      "k = 1.2", 
      "print(ss.erlang.fit(latencies, k))", 
      "shape, erlang_loc, lambd = ss.erlang.fit(latencies, k)        # \u041e\u0446\u0435\u043d\u0438\u043c \u043f\u043e\u043b\u043e\u0436\u0435\u043d\u0438\u0435 \u0440\u0430\u0441\u043f\u0440\u0435\u0434\u0435\u043b\u0435\u043d\u0438\u044f", 
      "", 
      "# \u041d\u0430\u0431\u0435\u0440\u0435\u043c \u0431\u043e\u043b\u044c\u0448\u0435 \u043f\u0440\u043e\u043c\u0435\u0436\u0443\u0442\u043e\u0447\u043d\u044b\u0445 \u0442\u043e\u0447\u0435\u043a \u0434\u043b\u044f \u043f\u043b\u0430\u0432\u043d\u043e\u0441\u0442\u0438 \u0433\u0440\u0430\u0444\u0438\u043a\u0430", 
      "x = np.linspace(np.min(latencies), np.max(latencies) + 10, number_of_samples * 2)", 
      "", 
      "# \u041f\u043e\u043b\u0443\u0447\u0438\u043c \u0441\u043e\u043e\u0442\u0432\u0435\u0441\u0442\u0432\u0443\u044e\u0449\u0438\u0435 \u0437\u043d\u0430\u0447\u0435\u043d\u0438\u0435 \u043f\u043e \u0444\u0443\u043d\u043a\u0446\u0438\u0438 \u043f\u043b\u043e\u0442\u043d\u043e\u0441\u0442\u0438 \u0432\u0435\u0440\u043e\u044f\u0442\u043d\u043e\u0441\u0442\u0438 \u0434\u043b\u044f \u0440\u0430\u0441\u043f\u0440\u0435\u0434\u0435\u043b\u0435\u043d\u0438\u044f \u042d\u0440\u043b\u0430\u043d\u0433\u0430", 
      "distr_data = ss.erlang.pdf(x, k, loc=erlang_loc, scale=lambd)", 
      "", 
      "# \u041f\u043e\u0441\u0442\u0440\u043e\u0438\u043c \u0433\u0440\u0430\u0444\u0438\u043a", 
      "plot(x, distr_data, 'r--')"
     ], 
     "language": "python", 
     "outputs": [
      {
       "output_type": "stream", 
       "stream": "stdout", 
       "text": [
        "(1.2, 185.69188306414617, 3.3181169358538254)"
       ]
      }, 
      {
       "output_type": "pyout", 
       "prompt_number": 309, 
       "text": [
        "[<matplotlib.lines.Line2D at 0xa22df70>]"
       ]
      }, 
      {
       "output_type": "display_data", 
       "png": "[encoded data removed]"
      }
     ], 
     "prompt_number": 309
    }, 
    {
     "cell_type": "markdown", 
     "source": [
      "\u0410 \u0442\u0430\u043a\u0436\u0435 \u043f\u043e\u0441\u043c\u043e\u0442\u0440\u0438\u043c \u043d\u0430 \u0440\u0430\u0441\u043f\u0440\u0435\u0434\u0435\u043b\u0435\u043d\u0438\u0435 \u0421\u0442\u044c\u044e\u0434\u0435\u043d\u0442\u0430."
     ]
    }, 
    {
     "cell_type": "code", 
     "collapsed": false, 
     "input": [
      "hist(latencies, bins_number, normed=1)  # \u041f\u043e\u0441\u0442\u0440\u043e\u0438\u043c \u043d\u043e\u0440\u043c\u0430\u043b\u0438\u0437\u043e\u0432\u0430\u043d\u043d\u0443\u044e \u0433\u0438\u0441\u0442\u043e\u0433\u0440\u0430\u043c\u043c\u0443", 
      "", 
      "df = 100", 
      "", 
      "print(ss.t.fit(latencies, df))", 
      "tmp, t_loc, t_scale = ss.t.fit(latencies, df)        # \u041e\u0446\u0435\u043d\u0438\u043c \u043f\u043e\u043b\u043e\u0436\u0435\u043d\u0438\u0435 \u0440\u0430\u0441\u043f\u0440\u0435\u0434\u0435\u043b\u0435\u043d\u0438\u044f", 
      "", 
      "# \u041d\u0430\u0431\u0435\u0440\u0435\u043c \u043f\u043e\u0431\u043e\u043b\u044c\u0448\u0435 \u043f\u0440\u043e\u043c\u0435\u0436\u0443\u0442\u043e\u0447\u043d\u044b\u0445 \u0442\u043e\u0447\u0435\u043a \u0434\u043b\u044f \u043f\u043b\u0430\u0432\u043d\u043e\u0441\u0442\u0438 \u0433\u0440\u0430\u0444\u0438\u043a\u0430", 
      "x = np.linspace(np.min(latencies)-10, np.max(latencies) + 10, number_of_samples * 2)", 
      "", 
      "# \u041f\u043e\u043b\u0443\u0447\u0438\u043c \u0441\u043e\u043e\u0442\u0432\u0435\u0441\u0442\u0432\u0443\u044e\u0449\u0438\u0435 \u0437\u043d\u0430\u0447\u0435\u043d\u0438\u0435 \u043f\u043e \u0444\u0443\u043d\u043a\u0446\u0438\u0438 \u043f\u043b\u043e\u0442\u043d\u043e\u0441\u0442\u0438 \u0432\u0435\u0440\u043e\u044f\u0442\u043d\u043e\u0441\u0442\u0438 \u0434\u043b\u044f t-\u0440\u0430\u0441\u043f\u0440\u0435\u0434\u0435\u043b\u0435\u043d\u0438\u044f", 
      "distr_data = ss.t.pdf(x, df, loc=t_loc, scale=3)", 
      "", 
      "# \u041f\u043e\u0441\u0442\u0440\u043e\u0438\u043c \u0433\u0440\u0430\u0444\u0438\u043a", 
      "plot(x, distr_data, 'r--')"
     ], 
     "language": "python", 
     "outputs": [
      {
       "output_type": "stream", 
       "stream": "stdout", 
       "text": [
        "(0.15974880151250814, 187.99999480090037, 0.0049556572226176444)"
       ]
      }, 
      {
       "output_type": "pyout", 
       "prompt_number": 226, 
       "text": [
        "[<matplotlib.lines.Line2D at 0x8af40d0>]"
       ]
      }, 
      {
       "output_type": "display_data", 
       "png": "[encoded data removed]"
      }
     ], 
     "prompt_number": 226
    }, 
    {
     "cell_type": "markdown", 
     "source": [
      "4) \u041f\u043e\u0441\u0447\u0438\u0442\u0430\u0435\u043c \u043a\u043e\u044d\u0444\u0444\u0438\u0446\u0438\u0435\u043d\u0442 \u0432\u0430\u0440\u0438\u0430\u0446\u0438\u0438. \u0421\u043d\u0430\u0447\u0430\u043b\u0430 \u0441\u0440\u0435\u0434\u0435\u043d\u0435\u0435, \u043f\u043e\u0442\u043e\u043c \u0441\u0442\u0430\u043d\u0434\u0430\u0440\u0442\u043d\u043e\u0435 \u043e\u0442\u043a\u043b\u043e\u043d\u0435\u043d\u0438\u0435."
     ]
    }, 
    {
     "cell_type": "code", 
     "collapsed": false, 
     "input": [
      "n = number_of_samples", 
      "mean = np.sum(latencies)/n", 
      "print(\"mean = {0}\".format(mean))", 
      "S = np.sqrt(np.sum((latencies-np.mean(latencies))**2)/(n-1)", 
      "print(\"S = {0}\".format(S))", 
      "V_x = S/mean", 
      "print(\"V_x = {0}\".format(V_x))"
     ], 
     "language": "python", 
     "outputs": [
      {
       "output_type": "stream", 
       "stream": "stdout", 
       "text": [
        "mean = 189.01", 
        "S = 0.333483299599", 
        "V_x = 0.0017643685498"
       ]
      }
     ], 
     "prompt_number": 83
    }, 
    {
     "cell_type": "markdown", 
     "source": [
      "5) \u041f\u0440\u043e\u0432\u0435\u0440\u0438\u0435\u043c \u0441 \u043f\u043e\u043c\u043e\u0449\u044c\u044e \u043a\u0440\u0438\u0442\u0435\u0440\u0438\u044f \u041f\u0438\u0440\u0441\u043e\u043d\u0430 ($\\chi^2$) \u0441\u043e\u043e\u0442\u0432\u0435\u0442\u0441\u0442\u0432\u0438\u0435 \u0440\u0430\u0441\u043f\u0440\u0435\u0434\u0435\u043b\u0435\u043d\u0438\u0435 \u042d\u0440\u043b\u0430\u043d\u0433\u0430 \u043d\u0430\u0448\u0438\u043c \u0438\u0441\u0445\u043e\u0434\u043d\u044b\u043c \u0434\u0430\u043d\u043d\u044b\u043c.", 
      "", 
      "$\\chi^2* = n*\\sum_{i=1}^{m}\\frac{(p_i*-p_i)^2}{p_i}$"
     ]
    }, 
    {
     "cell_type": "code", 
     "collapsed": false, 
     "input": [
      "counts, bins = np.histogram(latencies, bins=bins_number)", 
      "p_observed = np.array(counts, dtype=float)", 
      "#print(p_observed)", 
      "", 
      "tmp = ss.erlang.cdf(bins, k, loc=erlang_loc-0.55, scale=lambd)", 
      "#print(tmp)", 
      "", 
      "# Now get probabilities for intervals", 
      "p_expected = []", 
      "for idx, p in enumerate(tmp):", 
      "    if idx == len(tmp) - 1: break", 
      "    p_expected.append(tmp[idx+1] - tmp[idx])", 
      "", 
      "p_expected = n*np.array(p_expected)", 
      "", 
      "# Calculate using scipy built in chi-square test", 
      "chi_test_value, probability_fit = ss.chisquare(p_observed, np.array(p_expected, dtype=float))", 
      "print('\u0412\u0435\u0440\u043e\u044f\u0442\u043d\u043e\u0441\u0442\u044c \u0442\u043e\u0433\u043e, \u0447\u0442\u043e \u0440\u0430\u0441\u043f\u0440\u0435\u0434\u0435\u043b\u0435\u043d\u0438\u0435 \u042d\u0440\u043b\u0430\u043d\u0433\u0430 \u043f\u043e\u0434\u0445\u043e\u0434\u0438\u0442 \u043a \u043f\u043e\u043b\u0443\u0447\u0435\u043d\u043d\u044b\u043c \u0434\u0430\u043d\u043d\u044b\u043c: {0:f}'.format(probability_fit))", 
      "", 
      "# Calculate by ourselved", 
      "chi_star = np.sum((p_observed-p_expected)**2/p_expected)", 
      "print(\"chi_star = {}\".format(chi_star))", 
      "conf_interval = 0.95", 
      "df = len(bins) - 3", 
      "chi = ss.chi2.ppf(conf_interval, df)  # chi-square quntile for alpha = conf-interval, degrees of freedom = df", 
      "print(\"chi = {}\".format(chi))"
     ], 
     "language": "python", 
     "outputs": [
      {
       "output_type": "stream", 
       "stream": "stdout", 
       "text": [
        "\u0412\u0435\u0440\u043e\u044f\u0442\u043d\u043e\u0441\u0442\u044c \u0442\u043e\u0433\u043e, \u0447\u0442\u043e \u0440\u0430\u0441\u043f\u0440\u0435\u0434\u0435\u043b\u0435\u043d\u0438\u0435 \u042d\u0440\u043b\u0430\u043d\u0433\u0430 \u043f\u043e\u0434\u0445\u043e\u0434\u0438\u0442 \u043a \u043f\u043e\u043b\u0443\u0447\u0435\u043d\u043d\u044b\u043c \u0434\u0430\u043d\u043d\u044b\u043c: 0.098665", 
        "chi_star = 27.2634383493", 
        "chi = 28.8692994304"
       ]
      }
     ], 
     "prompt_number": 327
    }, 
    {
     "cell_type": "markdown", 
     "source": [
      "$\\chi > \\chi*$  \u2013  \u044d\u0442\u043e \u0443\u043a\u0430\u0437\u044b\u0432\u0430\u0435\u0442 \u043d\u0430 \u0442\u043e, \u0447\u0442\u043e \u0440\u0430\u0441\u043f\u0440\u0435\u0434\u0435\u043b\u0435\u043d\u0438\u0435 \u042d\u0440\u043b\u0430\u043d\u0433\u0430 \u043f\u043e\u0434\u0445\u043e\u0434\u0438\u0442 \u0434\u043b\u044f \u043d\u0430\u0448\u0438\u0445 \u0434\u0430\u043d\u043d\u044b\u0445.", 
      "\u041e\u0434\u043d\u0430\u043a\u043e, \u0441\u0442\u043e\u0438\u0442 \u043e\u0442\u043c\u0435\u0442\u0438\u0442\u044c, \u0447\u0442\u043e \u0440\u0430\u0437\u043d\u0438\u0446\u0430 \u043c\u0435\u0436\u0434\u0443 \u0432\u0435\u043b\u0438\u0447\u0438\u043d\u0430\u043c\u0438 \u043d\u0435\u0431\u043e\u043b\u044c\u0448\u0430\u044f.", 
      "", 
      "", 
      "6) \u041f\u0440\u043e\u0432\u0435\u0440\u0438\u043c \u0441 \u043f\u043e\u043c\u043e\u0449\u044c\u044e \u043a\u0440\u0438\u0442\u0435\u0440\u0438\u044f \u041f\u0438\u0440\u0441\u043e\u043d\u0430 \u0440\u0430\u0441\u043f\u0440\u0435\u0434\u0435\u043b\u0435\u043d\u0438\u0435 \u0421\u0442\u044c\u044e\u0434\u0435\u043d\u0442\u0430."
     ]
    }, 
    {
     "cell_type": "code", 
     "collapsed": false, 
     "input": [
      "counts, bins = np.histogram(latencies, bins=bins_number)", 
      "p_observed = np.array(counts, dtype=float)", 
      "#print(p_observed)", 
      "", 
      "tmp = ss.t.cdf(bins, 2, loc=t_loc, scale=3)", 
      "#print(tmp)", 
      "", 
      "# Now get probabilities for intervals", 
      "p_expected = []", 
      "for idx, p in enumerate(tmp):", 
      "    if idx == len(tmp) - 1: break", 
      "    p_expected.append(tmp[idx+1] - tmp[idx])", 
      "", 
      "p_expected = n*np.array(p_expected)", 
      "", 
      "# Calculate using scipy built in chi-square test", 
      "chi_test_value, probability_fit = ss.chisquare(p_observed, np.array(p_expected, dtype=float))", 
      "print('\u0412\u0435\u0440\u043e\u044f\u0442\u043d\u043e\u0441\u0442\u044c \u0442\u043e\u0433\u043e, \u0447\u0442\u043e \u0440\u0430\u0441\u043f\u0440\u0435\u0434\u0435\u043b\u0435\u043d\u0438\u0435 \u0421\u0442\u044c\u044e\u0434\u0435\u043d\u0442\u0430 \u043f\u043e\u0434\u0445\u043e\u0434\u0438\u0442 \u043a \u043f\u043e\u043b\u0443\u0447\u0435\u043d\u043d\u044b\u043c \u0434\u0430\u043d\u043d\u044b\u043c: {0:f}'.format(probability_fit))", 
      "", 
      "# Calculate by ourselved", 
      "chi_star = np.sum((p_observed-p_expected)**2/p_expected)", 
      "print(\"chi_star = {}\".format(chi_star))", 
      "conf_interval = 0.95", 
      "df = len(bins) - 3", 
      "chi = ss.chi2.ppf(conf_interval, df)  # chi-square quntile for alpha = conf-interval, degrees of freedom = df", 
      "print(\"chi = {}\".format(chi))"
     ], 
     "language": "python", 
     "outputs": [
      {
       "output_type": "stream", 
       "stream": "stdout", 
       "text": [
        "\u0412\u0435\u0440\u043e\u044f\u0442\u043d\u043e\u0441\u0442\u044c \u0442\u043e\u0433\u043e, \u0447\u0442\u043e \u0440\u0430\u0441\u043f\u0440\u0435\u0434\u0435\u043b\u0435\u043d\u0438\u0435 \u042d\u0440\u043b\u0430\u043d\u0433\u0430 \u043f\u043e\u0434\u0445\u043e\u0434\u0438\u0442 \u043a \u043f\u043e\u043b\u0443\u0447\u0435\u043d\u043d\u044b\u043c \u0434\u0430\u043d\u043d\u044b\u043c: 0.011388", 
        "chi_star = 35.7309840609", 
        "chi = 28.8692994304"
       ]
      }
     ], 
     "prompt_number": 339
    }, 
    {
     "cell_type": "markdown", 
     "source": []
    }
   ]
  }
 ]
}